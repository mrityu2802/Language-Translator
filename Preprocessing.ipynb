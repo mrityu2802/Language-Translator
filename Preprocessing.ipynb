{
 "cells": [
  {
   "cell_type": "code",
   "execution_count": 31,
   "id": "fdae0b87",
   "metadata": {},
   "outputs": [],
   "source": [
    "import pandas as pd\n",
    "import numpy as np\n",
    "import string\n",
    "from string import digits\n",
    "import matplotlib.pyplot as plt\n",
    "import tensorflow as tf\n",
    "from tensorflow.keras import layers , activations , models , preprocessing , utils\n",
    "%matplotlib inline\n",
    "import re\n",
    "from sklearn.utils import shuffle\n",
    "from sklearn.model_selection import train_test_split\n",
    "from keras.layers import Input, LSTM, Embedding, Dense\n",
    "from keras.models import Model\n",
    "import warnings\n",
    "warnings.filterwarnings('ignore')"
   ]
  },
  {
   "cell_type": "code",
   "execution_count": 32,
   "id": "972461fc",
   "metadata": {},
   "outputs": [],
   "source": [
    "data= pd.read_table('fra.txt', names=['eng', 'french','extra'])"
   ]
  },
  {
   "cell_type": "code",
   "execution_count": 33,
   "id": "30b2a6c4",
   "metadata": {},
   "outputs": [
    {
     "data": {
      "text/html": [
       "<div>\n",
       "<style scoped>\n",
       "    .dataframe tbody tr th:only-of-type {\n",
       "        vertical-align: middle;\n",
       "    }\n",
       "\n",
       "    .dataframe tbody tr th {\n",
       "        vertical-align: top;\n",
       "    }\n",
       "\n",
       "    .dataframe thead th {\n",
       "        text-align: right;\n",
       "    }\n",
       "</style>\n",
       "<table border=\"1\" class=\"dataframe\">\n",
       "  <thead>\n",
       "    <tr style=\"text-align: right;\">\n",
       "      <th></th>\n",
       "      <th>eng</th>\n",
       "      <th>french</th>\n",
       "      <th>extra</th>\n",
       "    </tr>\n",
       "  </thead>\n",
       "  <tbody>\n",
       "    <tr>\n",
       "      <th>0</th>\n",
       "      <td>Go.</td>\n",
       "      <td>Va !</td>\n",
       "      <td>CC-BY 2.0 (France) Attribution: tatoeba.org #2...</td>\n",
       "    </tr>\n",
       "    <tr>\n",
       "      <th>1</th>\n",
       "      <td>Go.</td>\n",
       "      <td>Marche.</td>\n",
       "      <td>CC-BY 2.0 (France) Attribution: tatoeba.org #2...</td>\n",
       "    </tr>\n",
       "    <tr>\n",
       "      <th>2</th>\n",
       "      <td>Go.</td>\n",
       "      <td>Bouge !</td>\n",
       "      <td>CC-BY 2.0 (France) Attribution: tatoeba.org #2...</td>\n",
       "    </tr>\n",
       "    <tr>\n",
       "      <th>3</th>\n",
       "      <td>Hi.</td>\n",
       "      <td>Salut !</td>\n",
       "      <td>CC-BY 2.0 (France) Attribution: tatoeba.org #5...</td>\n",
       "    </tr>\n",
       "    <tr>\n",
       "      <th>4</th>\n",
       "      <td>Hi.</td>\n",
       "      <td>Salut.</td>\n",
       "      <td>CC-BY 2.0 (France) Attribution: tatoeba.org #5...</td>\n",
       "    </tr>\n",
       "  </tbody>\n",
       "</table>\n",
       "</div>"
      ],
      "text/plain": [
       "   eng   french                                              extra\n",
       "0  Go.     Va !  CC-BY 2.0 (France) Attribution: tatoeba.org #2...\n",
       "1  Go.  Marche.  CC-BY 2.0 (France) Attribution: tatoeba.org #2...\n",
       "2  Go.  Bouge !  CC-BY 2.0 (France) Attribution: tatoeba.org #2...\n",
       "3  Hi.  Salut !  CC-BY 2.0 (France) Attribution: tatoeba.org #5...\n",
       "4  Hi.   Salut.  CC-BY 2.0 (France) Attribution: tatoeba.org #5..."
      ]
     },
     "execution_count": 33,
     "metadata": {},
     "output_type": "execute_result"
    }
   ],
   "source": [
    "data.head()"
   ]
  },
  {
   "cell_type": "code",
   "execution_count": 34,
   "id": "fc2830e6",
   "metadata": {},
   "outputs": [],
   "source": [
    "data.drop(['extra'],axis=1,inplace=True)"
   ]
  },
  {
   "cell_type": "code",
   "execution_count": 35,
   "id": "7f98a703",
   "metadata": {},
   "outputs": [
    {
     "data": {
      "text/html": [
       "<div>\n",
       "<style scoped>\n",
       "    .dataframe tbody tr th:only-of-type {\n",
       "        vertical-align: middle;\n",
       "    }\n",
       "\n",
       "    .dataframe tbody tr th {\n",
       "        vertical-align: top;\n",
       "    }\n",
       "\n",
       "    .dataframe thead th {\n",
       "        text-align: right;\n",
       "    }\n",
       "</style>\n",
       "<table border=\"1\" class=\"dataframe\">\n",
       "  <thead>\n",
       "    <tr style=\"text-align: right;\">\n",
       "      <th></th>\n",
       "      <th>eng</th>\n",
       "      <th>french</th>\n",
       "    </tr>\n",
       "  </thead>\n",
       "  <tbody>\n",
       "    <tr>\n",
       "      <th>0</th>\n",
       "      <td>Go.</td>\n",
       "      <td>Va !</td>\n",
       "    </tr>\n",
       "    <tr>\n",
       "      <th>1</th>\n",
       "      <td>Go.</td>\n",
       "      <td>Marche.</td>\n",
       "    </tr>\n",
       "    <tr>\n",
       "      <th>2</th>\n",
       "      <td>Go.</td>\n",
       "      <td>Bouge !</td>\n",
       "    </tr>\n",
       "    <tr>\n",
       "      <th>3</th>\n",
       "      <td>Hi.</td>\n",
       "      <td>Salut !</td>\n",
       "    </tr>\n",
       "    <tr>\n",
       "      <th>4</th>\n",
       "      <td>Hi.</td>\n",
       "      <td>Salut.</td>\n",
       "    </tr>\n",
       "  </tbody>\n",
       "</table>\n",
       "</div>"
      ],
      "text/plain": [
       "   eng   french\n",
       "0  Go.     Va !\n",
       "1  Go.  Marche.\n",
       "2  Go.  Bouge !\n",
       "3  Hi.  Salut !\n",
       "4  Hi.   Salut."
      ]
     },
     "execution_count": 35,
     "metadata": {},
     "output_type": "execute_result"
    }
   ],
   "source": [
    "data.head()"
   ]
  },
  {
   "cell_type": "code",
   "execution_count": 36,
   "id": "1cb24ce1",
   "metadata": {},
   "outputs": [],
   "source": [
    "data.eng=data.eng.apply(lambda x: x.lower())\n",
    "data.german=data.french.apply(lambda x: x.lower())"
   ]
  },
  {
   "cell_type": "code",
   "execution_count": 37,
   "id": "a9b766b4",
   "metadata": {},
   "outputs": [],
   "source": [
    "data.eng=data.eng.apply(lambda x: re.sub(\"'\", '', x))\n",
    "data.french=data.french.apply(lambda x: re.sub(\"'\", '', x))\n",
    "exclude = set(string.punctuation) # Set of all special characters"
   ]
  },
  {
   "cell_type": "code",
   "execution_count": 38,
   "id": "e43a5f33",
   "metadata": {},
   "outputs": [],
   "source": [
    "data.eng=data.eng.apply(lambda x: ''.join(ch for ch in x if ch not in exclude))\n",
    "data.french=data.french.apply(lambda x: ''.join(ch for ch in x if ch not in exclude))"
   ]
  },
  {
   "cell_type": "code",
   "execution_count": 40,
   "id": "b3400dac",
   "metadata": {},
   "outputs": [],
   "source": [
    "data.eng=data.eng.apply(lambda x: x.strip())\n",
    "data.french=data.french.apply(lambda x: x.strip())\n",
    "data.eng=data.eng.apply(lambda x: re.sub(\" +\", \" \", x))\n",
    "data.french=data.french.apply(lambda x: re.sub(\" +\", \" \", x))"
   ]
  },
  {
   "cell_type": "code",
   "execution_count": 42,
   "id": "63e9d3df",
   "metadata": {},
   "outputs": [],
   "source": [
    "new_data = data.sample(n=8000)"
   ]
  },
  {
   "cell_type": "code",
   "execution_count": 43,
   "id": "8e380e22",
   "metadata": {},
   "outputs": [],
   "source": [
    "new_data.to_csv('cleaned_data.csv',index=False)"
   ]
  },
  {
   "cell_type": "code",
   "execution_count": 44,
   "id": "bc6e7960",
   "metadata": {},
   "outputs": [
    {
     "data": {
      "text/html": [
       "<div>\n",
       "<style scoped>\n",
       "    .dataframe tbody tr th:only-of-type {\n",
       "        vertical-align: middle;\n",
       "    }\n",
       "\n",
       "    .dataframe tbody tr th {\n",
       "        vertical-align: top;\n",
       "    }\n",
       "\n",
       "    .dataframe thead th {\n",
       "        text-align: right;\n",
       "    }\n",
       "</style>\n",
       "<table border=\"1\" class=\"dataframe\">\n",
       "  <thead>\n",
       "    <tr style=\"text-align: right;\">\n",
       "      <th></th>\n",
       "      <th>eng</th>\n",
       "      <th>french</th>\n",
       "    </tr>\n",
       "  </thead>\n",
       "  <tbody>\n",
       "    <tr>\n",
       "      <th>122712</th>\n",
       "      <td>what do you think of my costume</td>\n",
       "      <td>Que pensezvous de mon costume</td>\n",
       "    </tr>\n",
       "    <tr>\n",
       "      <th>121236</th>\n",
       "      <td>she listened to music for hours</td>\n",
       "      <td>Elle a écouté de la musique durant des heures</td>\n",
       "    </tr>\n",
       "    <tr>\n",
       "      <th>44482</th>\n",
       "      <td>tom looks determined</td>\n",
       "      <td>Tom semble déterminé</td>\n",
       "    </tr>\n",
       "    <tr>\n",
       "      <th>123581</th>\n",
       "      <td>are you sure you just want water</td>\n",
       "      <td>Tu es sûr que tu ne veux que de leau</td>\n",
       "    </tr>\n",
       "    <tr>\n",
       "      <th>22672</th>\n",
       "      <td>he looks after us</td>\n",
       "      <td>Il soccupe de nous</td>\n",
       "    </tr>\n",
       "    <tr>\n",
       "      <th>...</th>\n",
       "      <td>...</td>\n",
       "      <td>...</td>\n",
       "    </tr>\n",
       "    <tr>\n",
       "      <th>116258</th>\n",
       "      <td>we climbed right up to the top</td>\n",
       "      <td>Nous sommes montés jusquau sommet</td>\n",
       "    </tr>\n",
       "    <tr>\n",
       "      <th>115756</th>\n",
       "      <td>this is what i do for a living</td>\n",
       "      <td>Cest ce que je fais pour gagner ma vie</td>\n",
       "    </tr>\n",
       "    <tr>\n",
       "      <th>150080</th>\n",
       "      <td>she advised him not to drink too much</td>\n",
       "      <td>Elle lui a conseillé de ne pas trop boire</td>\n",
       "    </tr>\n",
       "    <tr>\n",
       "      <th>170143</th>\n",
       "      <td>am i the only one that doesnt agree with you</td>\n",
       "      <td>Suisje le seul qui ne soit pas daccord avec vous</td>\n",
       "    </tr>\n",
       "    <tr>\n",
       "      <th>16118</th>\n",
       "      <td>we have to stop</td>\n",
       "      <td>Nous devons nous arrêter</td>\n",
       "    </tr>\n",
       "  </tbody>\n",
       "</table>\n",
       "<p>8000 rows × 2 columns</p>\n",
       "</div>"
      ],
      "text/plain": [
       "                                                 eng  \\\n",
       "122712               what do you think of my costume   \n",
       "121236               she listened to music for hours   \n",
       "44482                           tom looks determined   \n",
       "123581              are you sure you just want water   \n",
       "22672                              he looks after us   \n",
       "...                                              ...   \n",
       "116258                we climbed right up to the top   \n",
       "115756                this is what i do for a living   \n",
       "150080         she advised him not to drink too much   \n",
       "170143  am i the only one that doesnt agree with you   \n",
       "16118                                we have to stop   \n",
       "\n",
       "                                                  french  \n",
       "122712                     Que pensezvous de mon costume  \n",
       "121236     Elle a écouté de la musique durant des heures  \n",
       "44482                               Tom semble déterminé  \n",
       "123581              Tu es sûr que tu ne veux que de leau  \n",
       "22672                                 Il soccupe de nous  \n",
       "...                                                  ...  \n",
       "116258                 Nous sommes montés jusquau sommet  \n",
       "115756            Cest ce que je fais pour gagner ma vie  \n",
       "150080         Elle lui a conseillé de ne pas trop boire  \n",
       "170143  Suisje le seul qui ne soit pas daccord avec vous  \n",
       "16118                           Nous devons nous arrêter  \n",
       "\n",
       "[8000 rows x 2 columns]"
      ]
     },
     "execution_count": 44,
     "metadata": {},
     "output_type": "execute_result"
    }
   ],
   "source": [
    "new_data"
   ]
  },
  {
   "cell_type": "code",
   "execution_count": null,
   "id": "35e92baa",
   "metadata": {},
   "outputs": [],
   "source": []
  }
 ],
 "metadata": {
  "kernelspec": {
   "display_name": "Python 3",
   "language": "python",
   "name": "python3"
  },
  "language_info": {
   "codemirror_mode": {
    "name": "ipython",
    "version": 3
   },
   "file_extension": ".py",
   "mimetype": "text/x-python",
   "name": "python",
   "nbconvert_exporter": "python",
   "pygments_lexer": "ipython3",
   "version": "3.8.8"
  }
 },
 "nbformat": 4,
 "nbformat_minor": 5
}
